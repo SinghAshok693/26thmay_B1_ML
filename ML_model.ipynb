{
 "cells": [
  {
   "cell_type": "code",
   "execution_count": 9,
   "id": "a72f3db7-114c-4530-996c-b904a91cc176",
   "metadata": {},
   "outputs": [],
   "source": [
    "import pandas as pd"
   ]
  },
  {
   "cell_type": "code",
   "execution_count": 10,
   "id": "668fbea1-e906-48da-818e-2df48f5600e8",
   "metadata": {},
   "outputs": [],
   "source": [
    "model=pd.read_pickle('HousePricePredictor')"
   ]
  },
  {
   "cell_type": "code",
   "execution_count": 11,
   "id": "48fd3eb0-7382-4921-9bcf-603e82461b07",
   "metadata": {},
   "outputs": [
    {
     "data": {
      "text/plain": [
       "LinearRegression()"
      ]
     },
     "execution_count": 11,
     "metadata": {},
     "output_type": "execute_result"
    }
   ],
   "source": [
    "model"
   ]
  },
  {
   "cell_type": "code",
   "execution_count": 12,
   "id": "605c7ee8-118c-4636-8679-9cce5fe9d098",
   "metadata": {},
   "outputs": [],
   "source": [
    "cols=['Avg. Area Income', 'Avg. Area House Age', 'Avg. Area Number of Rooms', 'Area Population']"
   ]
  },
  {
   "cell_type": "code",
   "execution_count": 16,
   "id": "c72e17cd-75f8-4898-a14d-570f9e7a2ba2",
   "metadata": {},
   "outputs": [
    {
     "name": "stdin",
     "output_type": "stream",
     "text": [
      "Enter the income: 36000\n",
      "Enter the house age: 6\n",
      "Enter the number of rooms: 4\n",
      "Enter the population: 40000\n"
     ]
    }
   ],
   "source": [
    "income=eval(input('Enter the income:'))\n",
    "house_age=eval(input('Enter the house age:'))\n",
    "rooms=eval(input('Enter the number of rooms:'))\n",
    "population=eval(input('Enter the population:'))\n",
    "query=pd.DataFrame({'Avg. Area Income':[income], \n",
    "                    'Avg. Area House Age':[house_age], \n",
    "                    'Avg. Area Number of Rooms':[rooms], \n",
    "                    'Area Population':[population]\n",
    "                   })"
   ]
  },
  {
   "cell_type": "code",
   "execution_count": 17,
   "id": "d36fd1ba-0f73-4d45-bedc-546cf5d20a4d",
   "metadata": {},
   "outputs": [
    {
     "data": {
      "text/html": [
       "<div>\n",
       "<style scoped>\n",
       "    .dataframe tbody tr th:only-of-type {\n",
       "        vertical-align: middle;\n",
       "    }\n",
       "\n",
       "    .dataframe tbody tr th {\n",
       "        vertical-align: top;\n",
       "    }\n",
       "\n",
       "    .dataframe thead th {\n",
       "        text-align: right;\n",
       "    }\n",
       "</style>\n",
       "<table border=\"1\" class=\"dataframe\">\n",
       "  <thead>\n",
       "    <tr style=\"text-align: right;\">\n",
       "      <th></th>\n",
       "      <th>Avg. Area Income</th>\n",
       "      <th>Avg. Area House Age</th>\n",
       "      <th>Avg. Area Number of Rooms</th>\n",
       "      <th>Area Population</th>\n",
       "    </tr>\n",
       "  </thead>\n",
       "  <tbody>\n",
       "    <tr>\n",
       "      <th>0</th>\n",
       "      <td>36000</td>\n",
       "      <td>6</td>\n",
       "      <td>4</td>\n",
       "      <td>40000</td>\n",
       "    </tr>\n",
       "  </tbody>\n",
       "</table>\n",
       "</div>"
      ],
      "text/plain": [
       "   Avg. Area Income  Avg. Area House Age  Avg. Area Number of Rooms  \\\n",
       "0             36000                    6                          4   \n",
       "\n",
       "   Area Population  \n",
       "0            40000  "
      ]
     },
     "execution_count": 17,
     "metadata": {},
     "output_type": "execute_result"
    }
   ],
   "source": [
    "query"
   ]
  },
  {
   "cell_type": "code",
   "execution_count": 22,
   "id": "acc81b2b-2184-4358-be58-a5d9f24345bb",
   "metadata": {},
   "outputs": [
    {
     "data": {
      "text/plain": [
       "231489.21807090426"
      ]
     },
     "execution_count": 22,
     "metadata": {},
     "output_type": "execute_result"
    }
   ],
   "source": [
    "price=model.predict(query)[0]\n",
    "price"
   ]
  },
  {
   "cell_type": "code",
   "execution_count": 24,
   "id": "0d6fcd4c-5ec4-483d-9e1e-e73b2921691c",
   "metadata": {},
   "outputs": [
    {
     "name": "stdout",
     "output_type": "stream",
     "text": [
      "Price for the house can be: 231489.2\n"
     ]
    }
   ],
   "source": [
    "print('Price for the house can be: %.1f'%(price))"
   ]
  },
  {
   "cell_type": "code",
   "execution_count": null,
   "id": "a005b7f9-9de2-4c38-9cd5-24f4e7d4ad58",
   "metadata": {},
   "outputs": [],
   "source": []
  }
 ],
 "metadata": {
  "kernelspec": {
   "display_name": "Python 3",
   "language": "python",
   "name": "python3"
  },
  "language_info": {
   "codemirror_mode": {
    "name": "ipython",
    "version": 3
   },
   "file_extension": ".py",
   "mimetype": "text/x-python",
   "name": "python",
   "nbconvert_exporter": "python",
   "pygments_lexer": "ipython3",
   "version": "3.8.8"
  }
 },
 "nbformat": 4,
 "nbformat_minor": 5
}
