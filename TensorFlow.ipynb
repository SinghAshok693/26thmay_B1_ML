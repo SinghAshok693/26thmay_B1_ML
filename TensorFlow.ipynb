{
 "cells": [
  {
   "cell_type": "markdown",
   "id": "a31de135-a746-4572-bd0f-0f6193b55bc2",
   "metadata": {},
   "source": [
    "Steps to Build a Basic Artificial Neural Network \n",
    "1. Empty Model(Sequential/Model)\n",
    "2. Add The Input Layer (Dense)                      #####  Dense--class\n",
    "3. Add the Hiddem Layers (upto n) (Dense)\n",
    "4. Add The Output Layers (Dense)\n",
    "5. Compile the Model (Configurations of Optimizers,Loss Functions, Metrics)\n",
    "6. Training the Model"
   ]
  },
  {
   "cell_type": "code",
   "execution_count": 1,
   "id": "957ba800-44f4-43f6-98a7-a27e26675830",
   "metadata": {},
   "outputs": [],
   "source": [
    "import tensorflow as tf"
   ]
  },
  {
   "cell_type": "code",
   "execution_count": 2,
   "id": "498c3053-f673-4123-92c4-756821d5d5dc",
   "metadata": {},
   "outputs": [],
   "source": [
    "import tensorflow.keras.datasets as data"
   ]
  },
  {
   "cell_type": "code",
   "execution_count": 3,
   "id": "766ac04c-4a70-4325-b422-11a1b4c4db7a",
   "metadata": {},
   "outputs": [],
   "source": [
    "d=data.fashion_mnist.load_data()"
   ]
  },
  {
   "cell_type": "code",
   "execution_count": 4,
   "id": "e7f53dfe-6de7-4203-b856-a6bc625d4dcd",
   "metadata": {},
   "outputs": [],
   "source": [
    "(xtrain,ytrain),(xtest,ytest)=d"
   ]
  },
  {
   "cell_type": "code",
   "execution_count": 5,
   "id": "ead41d0a-1afe-450d-9043-a796001dbc20",
   "metadata": {},
   "outputs": [
    {
     "data": {
      "text/plain": [
       "(60000, 28, 28)"
      ]
     },
     "execution_count": 5,
     "metadata": {},
     "output_type": "execute_result"
    }
   ],
   "source": [
    "xtrain.shape"
   ]
  },
  {
   "cell_type": "code",
   "execution_count": 6,
   "id": "5949ef49-1fc4-406e-88c8-f76ae3c9a75e",
   "metadata": {},
   "outputs": [],
   "source": [
    "import IPython.display as ipd"
   ]
  },
  {
   "cell_type": "code",
   "execution_count": 7,
   "id": "623f02d9-7537-4690-a7d8-58d7b0a4fa56",
   "metadata": {
    "scrolled": true,
    "tags": []
   },
   "outputs": [
    {
     "data": {
      "text/plain": [
       "array([[  0,   0,   0,   0,   0,   0,   0,   0,   0,   0,   0,   0,   0,\n",
       "          0,   0,   0,   0,   0,   0,   0,   0,   0,   0,   0,   0,   0,\n",
       "          0,   0],\n",
       "       [  0,   0,   0,   0,   0,   0,   0,   0,   0,   0,   0,   0,   0,\n",
       "          0,   0,   0,   0,   0,   0,   0,   0,   0,   0,   0,   0,   0,\n",
       "          0,   0],\n",
       "       [  0,   0,   0,   0,   0,   0,   0,   0,   0,   0,   0,   0,   0,\n",
       "          0,   0,   0,   0,   0,   0,   0,   0,   0,   0,   0,   0,   0,\n",
       "          0,   0],\n",
       "       [  0,   0,   0,   0,   0,   0,   0,   0,   0,   0,   0,   0,   1,\n",
       "          0,   0,  13,  73,   0,   0,   1,   4,   0,   0,   0,   0,   1,\n",
       "          1,   0],\n",
       "       [  0,   0,   0,   0,   0,   0,   0,   0,   0,   0,   0,   0,   3,\n",
       "          0,  36, 136, 127,  62,  54,   0,   0,   0,   1,   3,   4,   0,\n",
       "          0,   3],\n",
       "       [  0,   0,   0,   0,   0,   0,   0,   0,   0,   0,   0,   0,   6,\n",
       "          0, 102, 204, 176, 134, 144, 123,  23,   0,   0,   0,   0,  12,\n",
       "         10,   0],\n",
       "       [  0,   0,   0,   0,   0,   0,   0,   0,   0,   0,   0,   0,   0,\n",
       "          0, 155, 236, 207, 178, 107, 156, 161, 109,  64,  23,  77, 130,\n",
       "         72,  15],\n",
       "       [  0,   0,   0,   0,   0,   0,   0,   0,   0,   0,   0,   1,   0,\n",
       "         69, 207, 223, 218, 216, 216, 163, 127, 121, 122, 146, 141,  88,\n",
       "        172,  66],\n",
       "       [  0,   0,   0,   0,   0,   0,   0,   0,   0,   1,   1,   1,   0,\n",
       "        200, 232, 232, 233, 229, 223, 223, 215, 213, 164, 127, 123, 196,\n",
       "        229,   0],\n",
       "       [  0,   0,   0,   0,   0,   0,   0,   0,   0,   0,   0,   0,   0,\n",
       "        183, 225, 216, 223, 228, 235, 227, 224, 222, 224, 221, 223, 245,\n",
       "        173,   0],\n",
       "       [  0,   0,   0,   0,   0,   0,   0,   0,   0,   0,   0,   0,   0,\n",
       "        193, 228, 218, 213, 198, 180, 212, 210, 211, 213, 223, 220, 243,\n",
       "        202,   0],\n",
       "       [  0,   0,   0,   0,   0,   0,   0,   0,   0,   1,   3,   0,  12,\n",
       "        219, 220, 212, 218, 192, 169, 227, 208, 218, 224, 212, 226, 197,\n",
       "        209,  52],\n",
       "       [  0,   0,   0,   0,   0,   0,   0,   0,   0,   0,   6,   0,  99,\n",
       "        244, 222, 220, 218, 203, 198, 221, 215, 213, 222, 220, 245, 119,\n",
       "        167,  56],\n",
       "       [  0,   0,   0,   0,   0,   0,   0,   0,   0,   4,   0,   0,  55,\n",
       "        236, 228, 230, 228, 240, 232, 213, 218, 223, 234, 217, 217, 209,\n",
       "         92,   0],\n",
       "       [  0,   0,   1,   4,   6,   7,   2,   0,   0,   0,   0,   0, 237,\n",
       "        226, 217, 223, 222, 219, 222, 221, 216, 223, 229, 215, 218, 255,\n",
       "         77,   0],\n",
       "       [  0,   3,   0,   0,   0,   0,   0,   0,   0,  62, 145, 204, 228,\n",
       "        207, 213, 221, 218, 208, 211, 218, 224, 223, 219, 215, 224, 244,\n",
       "        159,   0],\n",
       "       [  0,   0,   0,   0,  18,  44,  82, 107, 189, 228, 220, 222, 217,\n",
       "        226, 200, 205, 211, 230, 224, 234, 176, 188, 250, 248, 233, 238,\n",
       "        215,   0],\n",
       "       [  0,  57, 187, 208, 224, 221, 224, 208, 204, 214, 208, 209, 200,\n",
       "        159, 245, 193, 206, 223, 255, 255, 221, 234, 221, 211, 220, 232,\n",
       "        246,   0],\n",
       "       [  3, 202, 228, 224, 221, 211, 211, 214, 205, 205, 205, 220, 240,\n",
       "         80, 150, 255, 229, 221, 188, 154, 191, 210, 204, 209, 222, 228,\n",
       "        225,   0],\n",
       "       [ 98, 233, 198, 210, 222, 229, 229, 234, 249, 220, 194, 215, 217,\n",
       "        241,  65,  73, 106, 117, 168, 219, 221, 215, 217, 223, 223, 224,\n",
       "        229,  29],\n",
       "       [ 75, 204, 212, 204, 193, 205, 211, 225, 216, 185, 197, 206, 198,\n",
       "        213, 240, 195, 227, 245, 239, 223, 218, 212, 209, 222, 220, 221,\n",
       "        230,  67],\n",
       "       [ 48, 203, 183, 194, 213, 197, 185, 190, 194, 192, 202, 214, 219,\n",
       "        221, 220, 236, 225, 216, 199, 206, 186, 181, 177, 172, 181, 205,\n",
       "        206, 115],\n",
       "       [  0, 122, 219, 193, 179, 171, 183, 196, 204, 210, 213, 207, 211,\n",
       "        210, 200, 196, 194, 191, 195, 191, 198, 192, 176, 156, 167, 177,\n",
       "        210,  92],\n",
       "       [  0,   0,  74, 189, 212, 191, 175, 172, 175, 181, 185, 188, 189,\n",
       "        188, 193, 198, 204, 209, 210, 210, 211, 188, 188, 194, 192, 216,\n",
       "        170,   0],\n",
       "       [  2,   0,   0,   0,  66, 200, 222, 237, 239, 242, 246, 243, 244,\n",
       "        221, 220, 193, 191, 179, 182, 182, 181, 176, 166, 168,  99,  58,\n",
       "          0,   0],\n",
       "       [  0,   0,   0,   0,   0,   0,   0,  40,  61,  44,  72,  41,  35,\n",
       "          0,   0,   0,   0,   0,   0,   0,   0,   0,   0,   0,   0,   0,\n",
       "          0,   0],\n",
       "       [  0,   0,   0,   0,   0,   0,   0,   0,   0,   0,   0,   0,   0,\n",
       "          0,   0,   0,   0,   0,   0,   0,   0,   0,   0,   0,   0,   0,\n",
       "          0,   0],\n",
       "       [  0,   0,   0,   0,   0,   0,   0,   0,   0,   0,   0,   0,   0,\n",
       "          0,   0,   0,   0,   0,   0,   0,   0,   0,   0,   0,   0,   0,\n",
       "          0,   0]], dtype=uint8)"
      ]
     },
     "execution_count": 7,
     "metadata": {},
     "output_type": "execute_result"
    }
   ],
   "source": [
    "xtrain[0,:,:]"
   ]
  },
  {
   "cell_type": "code",
   "execution_count": 8,
   "id": "46ca3e01-7a0b-4ed2-86cc-3445789207a4",
   "metadata": {},
   "outputs": [],
   "source": [
    "import matplotlib.pyplot as plt"
   ]
  },
  {
   "cell_type": "code",
   "execution_count": 9,
   "id": "d3fd6c28-8ddb-4a8a-a47b-ac6833ac7824",
   "metadata": {},
   "outputs": [
    {
     "data": {
      "text/plain": [
       "<matplotlib.image.AxesImage at 0x1cedbd23e80>"
      ]
     },
     "execution_count": 9,
     "metadata": {},
     "output_type": "execute_result"
    },
    {
     "data": {
      "image/png": "[encoded data removed]",
      "text/plain": [
       "<Figure size 72x72 with 1 Axes>"
      ]
     },
     "metadata": {
      "needs_background": "light"
     },
     "output_type": "display_data"
    }
   ],
   "source": [
    "plt.figure(figsize=(1,1))\n",
    "plt.imshow(xtrain[1000,:,:])"
   ]
  },
  {
   "cell_type": "code",
   "execution_count": 10,
   "id": "72893ff7-2fd3-4fc5-aca5-62c47c33828b",
   "metadata": {},
   "outputs": [
    {
     "data": {
      "text/plain": [
       "array([9, 0, 0, ..., 3, 0, 5], dtype=uint8)"
      ]
     },
     "execution_count": 10,
     "metadata": {},
     "output_type": "execute_result"
    }
   ],
   "source": [
    "ytrain"
   ]
  },
  {
   "cell_type": "code",
   "execution_count": 11,
   "id": "361ee6a9-a31f-4d2e-9236-89cb09fcf755",
   "metadata": {},
   "outputs": [],
   "source": [
    "import pandas as pd"
   ]
  },
  {
   "cell_type": "code",
   "execution_count": 12,
   "id": "16767517-257d-49b7-86bc-7df2866a2fac",
   "metadata": {},
   "outputs": [
    {
     "data": {
      "text/plain": [
       "{'0': 'T-shirt/top',\n",
       " '1': 'Trouser',\n",
       " '2': 'Pullover',\n",
       " '3': 'Dress',\n",
       " '4': 'Coat',\n",
       " '5': 'Sandal',\n",
       " '6': 'Shirt',\n",
       " '7': 'Sneaker',\n",
       " '8': 'Bag',\n",
       " '9': 'Ankle-boot'}"
      ]
     },
     "execution_count": 12,
     "metadata": {},
     "output_type": "execute_result"
    }
   ],
   "source": [
    "labl = '''0 T-shirt/top\n",
    "1 Trouser\n",
    "2 Pullover\n",
    "3 Dress\n",
    "4 Coat\n",
    "5 Sandal\n",
    "6 Shirt\n",
    "7 Sneaker\n",
    "8 Bag\n",
    "9 Ankle-boot'''.split('\\n')\n",
    "labels = {i.split()[0]:i.split()[-1] for i in labl}\n",
    "labels"
   ]
  },
  {
   "cell_type": "code",
   "execution_count": 13,
   "id": "881e28da-22d7-49b6-ae30-63fbce14a5a5",
   "metadata": {},
   "outputs": [],
   "source": [
    "xtrain1 = xtrain.reshape(-1,784)\n",
    "xtest1 = xtest.reshape(-1,784)"
   ]
  },
  {
   "cell_type": "code",
   "execution_count": 14,
   "id": "ec25f4ce-5221-40b6-9cdf-4d734bff2f9a",
   "metadata": {},
   "outputs": [
    {
     "data": {
      "text/plain": [
       "(60000, 784)"
      ]
     },
     "execution_count": 14,
     "metadata": {},
     "output_type": "execute_result"
    }
   ],
   "source": [
    "xtrain1.shape"
   ]
  },
  {
   "cell_type": "code",
   "execution_count": 15,
   "id": "8d07ee4b-7168-452f-a997-76bb22cf3016",
   "metadata": {},
   "outputs": [
    {
     "data": {
      "text/plain": [
       "(10000, 784)"
      ]
     },
     "execution_count": 15,
     "metadata": {},
     "output_type": "execute_result"
    }
   ],
   "source": [
    "xtest1.shape"
   ]
  },
  {
   "cell_type": "code",
   "execution_count": 16,
   "id": "ab14db09-f412-45f0-97bf-6cbdcb0ee973",
   "metadata": {},
   "outputs": [],
   "source": [
    "model = tf.keras.models.Sequential()\n",
    "model.add(tf.keras.layers.Dense(activation='relu',input_shape=(784,),units=128))                    ## input layer\n",
    "model.add(tf.keras.layers.Dense(units=128,activation='relu'))                                       ## hidden layer\n",
    "model.add(tf.keras.layers.Dense(units=10,activation='softmax'))                                ## output layer  Categorical data so softmax or sigmoid\n",
    "model.compile(optimizer='adam',loss='sparse_categorical_crossentropy',metrics=['accuracy'])          ## compilation  "
   ]
  },
  {
   "cell_type": "code",
   "execution_count": 17,
   "id": "a2e9fd9d-0b2f-459c-9730-362b42e4b4b8",
   "metadata": {
    "scrolled": true,
    "tags": []
   },
   "outputs": [
    {
     "name": "stdout",
     "output_type": "stream",
     "text": [
      "Epoch 1/20\n",
      "1875/1875 [==============================] - 2s 1ms/step - loss: 1.6981 - accuracy: 0.7078\n",
      "Epoch 2/20\n",
      "1875/1875 [==============================] - 2s 914us/step - loss: 0.6794 - accuracy: 0.7657\n",
      "Epoch 3/20\n",
      "1875/1875 [==============================] - 2s 960us/step - loss: 0.6524 - accuracy: 0.7832\n",
      "Epoch 4/20\n",
      "1875/1875 [==============================] - 2s 957us/step - loss: 0.6099 - accuracy: 0.7991\n",
      "Epoch 5/20\n",
      "1875/1875 [==============================] - 2s 982us/step - loss: 0.5732 - accuracy: 0.8069\n",
      "Epoch 6/20\n",
      "1875/1875 [==============================] - 2s 982us/step - loss: 0.5221 - accuracy: 0.8229\n",
      "Epoch 7/20\n",
      "1875/1875 [==============================] - 2s 973us/step - loss: 0.4972 - accuracy: 0.8301\n",
      "Epoch 8/20\n",
      "1875/1875 [==============================] - 2s 958us/step - loss: 0.4790 - accuracy: 0.8341\n",
      "Epoch 9/20\n",
      "1875/1875 [==============================] - 2s 943us/step - loss: 0.4589 - accuracy: 0.8399\n",
      "Epoch 10/20\n",
      "1875/1875 [==============================] - 2s 924us/step - loss: 0.4502 - accuracy: 0.8423\n",
      "Epoch 11/20\n",
      "1875/1875 [==============================] - 2s 931us/step - loss: 0.4518 - accuracy: 0.8421\n",
      "Epoch 12/20\n",
      "1875/1875 [==============================] - 2s 942us/step - loss: 0.4442 - accuracy: 0.8430\n",
      "Epoch 13/20\n",
      "1875/1875 [==============================] - 2s 1ms/step - loss: 0.4230 - accuracy: 0.8510\n",
      "Epoch 14/20\n",
      "1875/1875 [==============================] - 2s 974us/step - loss: 0.4154 - accuracy: 0.8546\n",
      "Epoch 15/20\n",
      "1875/1875 [==============================] - 2s 989us/step - loss: 0.4210 - accuracy: 0.8524\n",
      "Epoch 16/20\n",
      "1875/1875 [==============================] - 2s 996us/step - loss: 0.4074 - accuracy: 0.8571\n",
      "Epoch 17/20\n",
      "1875/1875 [==============================] - 2s 1ms/step - loss: 0.4071 - accuracy: 0.8586\n",
      "Epoch 18/20\n",
      "1875/1875 [==============================] - 2s 1ms/step - loss: 0.4092 - accuracy: 0.8567\n",
      "Epoch 19/20\n",
      "1875/1875 [==============================] - 2s 1ms/step - loss: 0.3979 - accuracy: 0.8601\n",
      "Epoch 20/20\n",
      "1875/1875 [==============================] - 2s 1ms/step - loss: 0.3955 - accuracy: 0.8607\n"
     ]
    }
   ],
   "source": [
    "history = model.fit(xtrain1,ytrain,epochs=20)"
   ]
  },
  {
   "cell_type": "code",
   "execution_count": 18,
   "id": "52dc6c80-5cc4-4f67-854d-20a8d8145459",
   "metadata": {},
   "outputs": [
    {
     "data": {
      "image/png": "[encoded data removed]",
      "text/plain": [
       "<Figure size 432x288 with 1 Axes>"
      ]
     },
     "metadata": {
      "needs_background": "light"
     },
     "output_type": "display_data"
    }
   ],
   "source": [
    "plt.plot(history.history['loss'])\n",
    "plt.legend(['Loss'])\n",
    "plt.grid()\n",
    "plt.xticks(range(1,21))\n",
    "plt.xlabel('Epochs-->')\n",
    "plt.show()"
   ]
  },
  {
   "cell_type": "code",
   "execution_count": 19,
   "id": "3ccb1b52-07b4-4ea2-8b10-e83242119a39",
   "metadata": {},
   "outputs": [
    {
     "data": {
      "image/png": "[encoded data removed]",
      "text/plain": [
       "<Figure size 432x288 with 1 Axes>"
      ]
     },
     "metadata": {
      "needs_background": "light"
     },
     "output_type": "display_data"
    }
   ],
   "source": [
    "plt.plot(history.history['accuracy'])\n",
    "plt.legend(['Accuracy'])\n",
    "plt.grid()\n",
    "plt.xticks(range(1,21))\n",
    "plt.xlabel('Epochs-->')\n",
    "plt.show()"
   ]
  },
  {
   "cell_type": "code",
   "execution_count": null,
   "id": "250e7bc7-727c-4440-b6ae-54393e9c8542",
   "metadata": {},
   "outputs": [],
   "source": []
  },
  {
   "cell_type": "code",
   "execution_count": 20,
   "id": "be34b573-4a08-4332-a6b0-ead6859a35b5",
   "metadata": {},
   "outputs": [],
   "source": [
    "# model.predict()"
   ]
  },
  {
   "cell_type": "code",
   "execution_count": 21,
   "id": "086cf9d6-8abe-4622-bd1b-19acbdeab000",
   "metadata": {},
   "outputs": [],
   "source": [
    "ypred = model.predict(xtest1)"
   ]
  },
  {
   "cell_type": "code",
   "execution_count": 22,
   "id": "60e67fd6-b547-48d8-b8d2-ffa3f6d0828b",
   "metadata": {},
   "outputs": [
    {
     "data": {
      "text/plain": [
       "array([2.4183430e-10, 8.7858314e-07, 9.7820330e-25, 3.7242196e-09,\n",
       "       7.9380854e-13, 1.0876876e-02, 6.2898642e-09, 9.3523366e-03,\n",
       "       8.5421461e-06, 9.7976136e-01], dtype=float32)"
      ]
     },
     "execution_count": 22,
     "metadata": {},
     "output_type": "execute_result"
    }
   ],
   "source": [
    "ypred[0]"
   ]
  },
  {
   "cell_type": "code",
   "execution_count": 23,
   "id": "9c74668f-2c13-4aa7-a459-9c005a8e6687",
   "metadata": {},
   "outputs": [
    {
     "name": "stdout",
     "output_type": "stream",
     "text": [
      "0 : 0.0000000002\n",
      "1 : 0.0000008786\n",
      "2 : 0.0000000000\n",
      "3 : 0.0000000037\n",
      "4 : 0.0000000000\n",
      "5 : 0.0108768763\n",
      "6 : 0.0000000063\n",
      "7 : 0.0093523366\n",
      "8 : 0.0000085421\n",
      "9 : 0.9797613621\n"
     ]
    }
   ],
   "source": [
    "for i,v in enumerate(ypred[0]):\n",
    "    print(i,':','{0:.10f}'.format(v))"
   ]
  },
  {
   "cell_type": "code",
   "execution_count": 24,
   "id": "dfb00964-1298-4665-b38a-37fe4f6628f3",
   "metadata": {},
   "outputs": [
    {
     "data": {
      "text/plain": [
       "9"
      ]
     },
     "execution_count": 24,
     "metadata": {},
     "output_type": "execute_result"
    }
   ],
   "source": [
    "ypred[0].argmax()            ## max argument"
   ]
  },
  {
   "cell_type": "code",
   "execution_count": 25,
   "id": "eb693962-d0e4-4e03-8746-92c6b9d83d52",
   "metadata": {},
   "outputs": [
    {
     "data": {
      "text/plain": [
       "10"
      ]
     },
     "execution_count": 25,
     "metadata": {},
     "output_type": "execute_result"
    }
   ],
   "source": [
    "len(ypred[0])"
   ]
  },
  {
   "cell_type": "code",
   "execution_count": 26,
   "id": "4fb719b5-d949-460d-97d6-bff0bcf25926",
   "metadata": {},
   "outputs": [],
   "source": [
    "import numpy as np"
   ]
  },
  {
   "cell_type": "code",
   "execution_count": 27,
   "id": "2b07bfa5-0f85-4dd9-9cb0-cc7528a327d8",
   "metadata": {},
   "outputs": [
    {
     "data": {
      "text/plain": [
       "array([9, 2, 1, ..., 8, 1, 5], dtype=int64)"
      ]
     },
     "execution_count": 27,
     "metadata": {},
     "output_type": "execute_result"
    }
   ],
   "source": [
    "ypredd = np.array([i.argmax() for i in ypred])\n",
    "ypredd"
   ]
  },
  {
   "cell_type": "code",
   "execution_count": 28,
   "id": "eb1157b7-7d6e-4a21-aafa-c0c700baa48b",
   "metadata": {
    "tags": []
   },
   "outputs": [
    {
     "data": {
      "text/plain": [
       "<matplotlib.image.AxesImage at 0x1cee5d19a30>"
      ]
     },
     "execution_count": 28,
     "metadata": {},
     "output_type": "execute_result"
    },
    {
     "data": {
      "image/png": "[encoded data removed]",
      "text/plain": [
       "<Figure size 432x288 with 1 Axes>"
      ]
     },
     "metadata": {
      "needs_background": "light"
     },
     "output_type": "display_data"
    }
   ],
   "source": [
    "plt.imshow(xtest1[0].reshape(28,28))"
   ]
  },
  {
   "cell_type": "code",
   "execution_count": 29,
   "id": "d2bae188-3692-455a-ae17-033f500da672",
   "metadata": {},
   "outputs": [
    {
     "data": {
      "text/plain": [
       "7"
      ]
     },
     "execution_count": 29,
     "metadata": {},
     "output_type": "execute_result"
    }
   ],
   "source": [
    "ytest[9]"
   ]
  },
  {
   "cell_type": "code",
   "execution_count": 30,
   "id": "b54dd100-91b8-4648-86ed-8b06eece2121",
   "metadata": {},
   "outputs": [
    {
     "data": {
      "text/plain": [
       "array([9, 2, 1, ..., 8, 1, 5], dtype=uint8)"
      ]
     },
     "execution_count": 30,
     "metadata": {},
     "output_type": "execute_result"
    }
   ],
   "source": [
    "ytest"
   ]
  },
  {
   "cell_type": "code",
   "execution_count": 31,
   "id": "5d227b36-c6ee-473e-9eb3-e614e736bd4b",
   "metadata": {},
   "outputs": [],
   "source": [
    "ypredd = np.array([labels.get(str(i)) for i in ypredd])\n",
    "ytestt = np.array([labels.get(str(i)) for i in ytest])"
   ]
  },
  {
   "cell_type": "code",
   "execution_count": 32,
   "id": "130c5023-02a1-4272-b6d9-ef5d388432af",
   "metadata": {
    "scrolled": true,
    "tags": []
   },
   "outputs": [
    {
     "data": {
      "text/plain": [
       "10000"
      ]
     },
     "execution_count": 32,
     "metadata": {},
     "output_type": "execute_result"
    }
   ],
   "source": [
    "len(ypredd)"
   ]
  },
  {
   "cell_type": "code",
   "execution_count": 33,
   "id": "6b905fd1-f3ca-473f-97aa-efc0817b0a77",
   "metadata": {
    "scrolled": true,
    "tags": []
   },
   "outputs": [
    {
     "data": {
      "text/plain": [
       "10000"
      ]
     },
     "execution_count": 33,
     "metadata": {},
     "output_type": "execute_result"
    }
   ],
   "source": [
    "len(ytestt)"
   ]
  },
  {
   "cell_type": "code",
   "execution_count": 34,
   "id": "ac0e1558-d41e-48c7-abf2-5a7f9f813e83",
   "metadata": {},
   "outputs": [],
   "source": [
    "from sklearn.metrics import classification_report,confusion_matrix"
   ]
  },
  {
   "cell_type": "code",
   "execution_count": 35,
   "id": "1a9e062b-42f2-4654-b217-1ec9f3855ab8",
   "metadata": {},
   "outputs": [],
   "source": [
    "import seaborn as sns"
   ]
  },
  {
   "cell_type": "code",
   "execution_count": 36,
   "id": "13b6cd93-5d5a-4db3-ab14-5415a51bd7c8",
   "metadata": {},
   "outputs": [
    {
     "data": {
      "text/plain": [
       "<AxesSubplot:>"
      ]
     },
     "execution_count": 36,
     "metadata": {},
     "output_type": "execute_result"
    },
    {
     "data": {
      "image/png": "[encoded data removed]",
      "text/plain": [
       "<Figure size 576x576 with 1 Axes>"
      ]
     },
     "metadata": {
      "needs_background": "light"
     },
     "output_type": "display_data"
    }
   ],
   "source": [
    "plt.figure(figsize=(8,8))\n",
    "sns.heatmap(pd.DataFrame(confusion_matrix(ytestt,ypredd),index=labels.values(), columns=labels.values()),annot=True,fmt='d',cbar=False)"
   ]
  },
  {
   "cell_type": "code",
   "execution_count": 37,
   "id": "bb902757-9399-4f00-9cb1-235422792630",
   "metadata": {},
   "outputs": [
    {
     "name": "stdout",
     "output_type": "stream",
     "text": [
      "              precision    recall  f1-score   support\n",
      "\n",
      "  Ankle-boot       0.96      0.94      0.95      1000\n",
      "         Bag       0.93      0.97      0.95      1000\n",
      "        Coat       0.69      0.84      0.76      1000\n",
      "       Dress       0.85      0.85      0.85      1000\n",
      "    Pullover       0.70      0.74      0.72      1000\n",
      "      Sandal       0.97      0.90      0.93      1000\n",
      "       Shirt       0.76      0.43      0.55      1000\n",
      "     Sneaker       0.89      0.97      0.93      1000\n",
      " T-shirt/top       0.74      0.86      0.80      1000\n",
      "     Trouser       0.99      0.95      0.97      1000\n",
      "\n",
      "    accuracy                           0.85     10000\n",
      "   macro avg       0.85      0.85      0.84     10000\n",
      "weighted avg       0.85      0.85      0.84     10000\n",
      "\n"
     ]
    }
   ],
   "source": [
    "print(classification_report(ytestt,ypredd))"
   ]
  },
  {
   "cell_type": "code",
   "execution_count": null,
   "id": "015e8387-e170-44ac-a34b-fb0f78cd6986",
   "metadata": {},
   "outputs": [],
   "source": []
  }
 ],
 "metadata": {
  "kernelspec": {
   "display_name": "Python 3",
   "language": "python",
   "name": "python3"
  },
  "language_info": {
   "codemirror_mode": {
    "name": "ipython",
    "version": 3
   },
   "file_extension": ".py",
   "mimetype": "text/x-python",
   "name": "python",
   "nbconvert_exporter": "python",
   "pygments_lexer": "ipython3",
   "version": "3.8.8"
  }
 },
 "nbformat": 4,
 "nbformat_minor": 5
}
